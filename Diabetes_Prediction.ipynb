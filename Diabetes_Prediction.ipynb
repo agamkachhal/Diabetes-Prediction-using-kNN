{
 "cells": [
  {
   "cell_type": "markdown",
   "metadata": {},
   "source": [
    "# Diabetes Prediction using k-NN\n",
    "\n",
    "We are using the Pima Indians Diabetes Dataset that comes originally from the National Institute of Diabetes and Digestive and Kidney Disease. The data is available as a single csv file but since it is real world data it contains a number of null values. This notebook focusses mainly on data pre-processing, fitting and evaluating the k-NN model to predict diabetes "
   ]
  },
  {
   "cell_type": "code",
   "execution_count": 1,
   "metadata": {},
   "outputs": [],
   "source": [
    "import numpy as np \n",
    "import pandas as pd\n",
    "import matplotlib.pyplot as plt\n",
    "\n",
    "random_state = 42"
   ]
  },
  {
   "cell_type": "code",
   "execution_count": 2,
   "metadata": {},
   "outputs": [],
   "source": [
    "df = pd.read_csv('pima-indians-diabetes.csv')"
   ]
  },
  {
   "cell_type": "code",
   "execution_count": 3,
   "metadata": {},
   "outputs": [
    {
     "data": {
      "text/html": [
       "<div>\n",
       "<style scoped>\n",
       "    .dataframe tbody tr th:only-of-type {\n",
       "        vertical-align: middle;\n",
       "    }\n",
       "\n",
       "    .dataframe tbody tr th {\n",
       "        vertical-align: top;\n",
       "    }\n",
       "\n",
       "    .dataframe thead th {\n",
       "        text-align: right;\n",
       "    }\n",
       "</style>\n",
       "<table border=\"1\" class=\"dataframe\">\n",
       "  <thead>\n",
       "    <tr style=\"text-align: right;\">\n",
       "      <th></th>\n",
       "      <th>Pregnancies</th>\n",
       "      <th>Glucose</th>\n",
       "      <th>BloodPressure</th>\n",
       "      <th>SkinThickness</th>\n",
       "      <th>Insulin</th>\n",
       "      <th>BMI</th>\n",
       "      <th>DiabetesPedigreeFunction</th>\n",
       "      <th>Age</th>\n",
       "      <th>Outcome</th>\n",
       "    </tr>\n",
       "  </thead>\n",
       "  <tbody>\n",
       "    <tr>\n",
       "      <th>count</th>\n",
       "      <td>768.000000</td>\n",
       "      <td>768.000000</td>\n",
       "      <td>768.000000</td>\n",
       "      <td>768.000000</td>\n",
       "      <td>768.000000</td>\n",
       "      <td>768.000000</td>\n",
       "      <td>768.000000</td>\n",
       "      <td>768.000000</td>\n",
       "      <td>768.000000</td>\n",
       "    </tr>\n",
       "    <tr>\n",
       "      <th>mean</th>\n",
       "      <td>3.845052</td>\n",
       "      <td>120.894531</td>\n",
       "      <td>69.105469</td>\n",
       "      <td>20.536458</td>\n",
       "      <td>79.799479</td>\n",
       "      <td>31.992578</td>\n",
       "      <td>0.471876</td>\n",
       "      <td>33.240885</td>\n",
       "      <td>0.348958</td>\n",
       "    </tr>\n",
       "    <tr>\n",
       "      <th>std</th>\n",
       "      <td>3.369578</td>\n",
       "      <td>31.972618</td>\n",
       "      <td>19.355807</td>\n",
       "      <td>15.952218</td>\n",
       "      <td>115.244002</td>\n",
       "      <td>7.884160</td>\n",
       "      <td>0.331329</td>\n",
       "      <td>11.760232</td>\n",
       "      <td>0.476951</td>\n",
       "    </tr>\n",
       "    <tr>\n",
       "      <th>min</th>\n",
       "      <td>0.000000</td>\n",
       "      <td>0.000000</td>\n",
       "      <td>0.000000</td>\n",
       "      <td>0.000000</td>\n",
       "      <td>0.000000</td>\n",
       "      <td>0.000000</td>\n",
       "      <td>0.078000</td>\n",
       "      <td>21.000000</td>\n",
       "      <td>0.000000</td>\n",
       "    </tr>\n",
       "    <tr>\n",
       "      <th>25%</th>\n",
       "      <td>1.000000</td>\n",
       "      <td>99.000000</td>\n",
       "      <td>62.000000</td>\n",
       "      <td>0.000000</td>\n",
       "      <td>0.000000</td>\n",
       "      <td>27.300000</td>\n",
       "      <td>0.243750</td>\n",
       "      <td>24.000000</td>\n",
       "      <td>0.000000</td>\n",
       "    </tr>\n",
       "    <tr>\n",
       "      <th>50%</th>\n",
       "      <td>3.000000</td>\n",
       "      <td>117.000000</td>\n",
       "      <td>72.000000</td>\n",
       "      <td>23.000000</td>\n",
       "      <td>30.500000</td>\n",
       "      <td>32.000000</td>\n",
       "      <td>0.372500</td>\n",
       "      <td>29.000000</td>\n",
       "      <td>0.000000</td>\n",
       "    </tr>\n",
       "    <tr>\n",
       "      <th>75%</th>\n",
       "      <td>6.000000</td>\n",
       "      <td>140.250000</td>\n",
       "      <td>80.000000</td>\n",
       "      <td>32.000000</td>\n",
       "      <td>127.250000</td>\n",
       "      <td>36.600000</td>\n",
       "      <td>0.626250</td>\n",
       "      <td>41.000000</td>\n",
       "      <td>1.000000</td>\n",
       "    </tr>\n",
       "    <tr>\n",
       "      <th>max</th>\n",
       "      <td>17.000000</td>\n",
       "      <td>199.000000</td>\n",
       "      <td>122.000000</td>\n",
       "      <td>99.000000</td>\n",
       "      <td>846.000000</td>\n",
       "      <td>67.100000</td>\n",
       "      <td>2.420000</td>\n",
       "      <td>81.000000</td>\n",
       "      <td>1.000000</td>\n",
       "    </tr>\n",
       "  </tbody>\n",
       "</table>\n",
       "</div>"
      ],
      "text/plain": [
       "       Pregnancies     Glucose  BloodPressure  SkinThickness     Insulin  \\\n",
       "count   768.000000  768.000000     768.000000     768.000000  768.000000   \n",
       "mean      3.845052  120.894531      69.105469      20.536458   79.799479   \n",
       "std       3.369578   31.972618      19.355807      15.952218  115.244002   \n",
       "min       0.000000    0.000000       0.000000       0.000000    0.000000   \n",
       "25%       1.000000   99.000000      62.000000       0.000000    0.000000   \n",
       "50%       3.000000  117.000000      72.000000      23.000000   30.500000   \n",
       "75%       6.000000  140.250000      80.000000      32.000000  127.250000   \n",
       "max      17.000000  199.000000     122.000000      99.000000  846.000000   \n",
       "\n",
       "              BMI  DiabetesPedigreeFunction         Age     Outcome  \n",
       "count  768.000000                768.000000  768.000000  768.000000  \n",
       "mean    31.992578                  0.471876   33.240885    0.348958  \n",
       "std      7.884160                  0.331329   11.760232    0.476951  \n",
       "min      0.000000                  0.078000   21.000000    0.000000  \n",
       "25%     27.300000                  0.243750   24.000000    0.000000  \n",
       "50%     32.000000                  0.372500   29.000000    0.000000  \n",
       "75%     36.600000                  0.626250   41.000000    1.000000  \n",
       "max     67.100000                  2.420000   81.000000    1.000000  "
      ]
     },
     "execution_count": 3,
     "metadata": {},
     "output_type": "execute_result"
    }
   ],
   "source": [
    "df.describe()"
   ]
  },
  {
   "cell_type": "code",
   "execution_count": 4,
   "metadata": {},
   "outputs": [
    {
     "data": {
      "text/html": [
       "<div>\n",
       "<style scoped>\n",
       "    .dataframe tbody tr th:only-of-type {\n",
       "        vertical-align: middle;\n",
       "    }\n",
       "\n",
       "    .dataframe tbody tr th {\n",
       "        vertical-align: top;\n",
       "    }\n",
       "\n",
       "    .dataframe thead th {\n",
       "        text-align: right;\n",
       "    }\n",
       "</style>\n",
       "<table border=\"1\" class=\"dataframe\">\n",
       "  <thead>\n",
       "    <tr style=\"text-align: right;\">\n",
       "      <th></th>\n",
       "      <th>Pregnancies</th>\n",
       "      <th>Glucose</th>\n",
       "      <th>BloodPressure</th>\n",
       "      <th>SkinThickness</th>\n",
       "      <th>Insulin</th>\n",
       "      <th>BMI</th>\n",
       "      <th>DiabetesPedigreeFunction</th>\n",
       "      <th>Age</th>\n",
       "      <th>Outcome</th>\n",
       "    </tr>\n",
       "  </thead>\n",
       "  <tbody>\n",
       "    <tr>\n",
       "      <th>0</th>\n",
       "      <td>6</td>\n",
       "      <td>148</td>\n",
       "      <td>72</td>\n",
       "      <td>35</td>\n",
       "      <td>0</td>\n",
       "      <td>33.6</td>\n",
       "      <td>0.627</td>\n",
       "      <td>50</td>\n",
       "      <td>1</td>\n",
       "    </tr>\n",
       "    <tr>\n",
       "      <th>1</th>\n",
       "      <td>1</td>\n",
       "      <td>85</td>\n",
       "      <td>66</td>\n",
       "      <td>29</td>\n",
       "      <td>0</td>\n",
       "      <td>26.6</td>\n",
       "      <td>0.351</td>\n",
       "      <td>31</td>\n",
       "      <td>0</td>\n",
       "    </tr>\n",
       "    <tr>\n",
       "      <th>2</th>\n",
       "      <td>8</td>\n",
       "      <td>183</td>\n",
       "      <td>64</td>\n",
       "      <td>0</td>\n",
       "      <td>0</td>\n",
       "      <td>23.3</td>\n",
       "      <td>0.672</td>\n",
       "      <td>32</td>\n",
       "      <td>1</td>\n",
       "    </tr>\n",
       "    <tr>\n",
       "      <th>3</th>\n",
       "      <td>1</td>\n",
       "      <td>89</td>\n",
       "      <td>66</td>\n",
       "      <td>23</td>\n",
       "      <td>94</td>\n",
       "      <td>28.1</td>\n",
       "      <td>0.167</td>\n",
       "      <td>21</td>\n",
       "      <td>0</td>\n",
       "    </tr>\n",
       "    <tr>\n",
       "      <th>4</th>\n",
       "      <td>0</td>\n",
       "      <td>137</td>\n",
       "      <td>40</td>\n",
       "      <td>35</td>\n",
       "      <td>168</td>\n",
       "      <td>43.1</td>\n",
       "      <td>2.288</td>\n",
       "      <td>33</td>\n",
       "      <td>1</td>\n",
       "    </tr>\n",
       "  </tbody>\n",
       "</table>\n",
       "</div>"
      ],
      "text/plain": [
       "   Pregnancies  Glucose  BloodPressure  SkinThickness  Insulin   BMI  \\\n",
       "0            6      148             72             35        0  33.6   \n",
       "1            1       85             66             29        0  26.6   \n",
       "2            8      183             64              0        0  23.3   \n",
       "3            1       89             66             23       94  28.1   \n",
       "4            0      137             40             35      168  43.1   \n",
       "\n",
       "   DiabetesPedigreeFunction  Age  Outcome  \n",
       "0                     0.627   50        1  \n",
       "1                     0.351   31        0  \n",
       "2                     0.672   32        1  \n",
       "3                     0.167   21        0  \n",
       "4                     2.288   33        1  "
      ]
     },
     "execution_count": 4,
     "metadata": {},
     "output_type": "execute_result"
    }
   ],
   "source": [
    "df.head()"
   ]
  },
  {
   "cell_type": "markdown",
   "metadata": {},
   "source": [
    "## A. Pre-processing"
   ]
  },
  {
   "cell_type": "markdown",
   "metadata": {},
   "source": [
    "**Replacing all null values in the data frame by NaN, then displaying the head of the data frame and print out the number of missing values for each feature**"
   ]
  },
  {
   "cell_type": "markdown",
   "metadata": {},
   "source": [
   ]
  },
  {
   "cell_type": "code",
   "execution_count": 5,
   "metadata": {},
   "outputs": [
    {
     "data": {
      "text/html": [
       "<div>\n",
       "<style scoped>\n",
       "    .dataframe tbody tr th:only-of-type {\n",
       "        vertical-align: middle;\n",
       "    }\n",
       "\n",
       "    .dataframe tbody tr th {\n",
       "        vertical-align: top;\n",
       "    }\n",
       "\n",
       "    .dataframe thead th {\n",
       "        text-align: right;\n",
       "    }\n",
       "</style>\n",
       "<table border=\"1\" class=\"dataframe\">\n",
       "  <thead>\n",
       "    <tr style=\"text-align: right;\">\n",
       "      <th></th>\n",
       "      <th>Pregnancies</th>\n",
       "      <th>Glucose</th>\n",
       "      <th>BloodPressure</th>\n",
       "      <th>SkinThickness</th>\n",
       "      <th>Insulin</th>\n",
       "      <th>BMI</th>\n",
       "      <th>DiabetesPedigreeFunction</th>\n",
       "      <th>Age</th>\n",
       "      <th>Outcome</th>\n",
       "    </tr>\n",
       "  </thead>\n",
       "  <tbody>\n",
       "    <tr>\n",
       "      <th>0</th>\n",
       "      <td>6.0</td>\n",
       "      <td>148.0</td>\n",
       "      <td>72.0</td>\n",
       "      <td>35.0</td>\n",
       "      <td>NaN</td>\n",
       "      <td>33.6</td>\n",
       "      <td>0.627</td>\n",
       "      <td>50</td>\n",
       "      <td>1.0</td>\n",
       "    </tr>\n",
       "    <tr>\n",
       "      <th>1</th>\n",
       "      <td>1.0</td>\n",
       "      <td>85.0</td>\n",
       "      <td>66.0</td>\n",
       "      <td>29.0</td>\n",
       "      <td>NaN</td>\n",
       "      <td>26.6</td>\n",
       "      <td>0.351</td>\n",
       "      <td>31</td>\n",
       "      <td>NaN</td>\n",
       "    </tr>\n",
       "    <tr>\n",
       "      <th>2</th>\n",
       "      <td>8.0</td>\n",
       "      <td>183.0</td>\n",
       "      <td>64.0</td>\n",
       "      <td>NaN</td>\n",
       "      <td>NaN</td>\n",
       "      <td>23.3</td>\n",
       "      <td>0.672</td>\n",
       "      <td>32</td>\n",
       "      <td>1.0</td>\n",
       "    </tr>\n",
       "    <tr>\n",
       "      <th>3</th>\n",
       "      <td>1.0</td>\n",
       "      <td>89.0</td>\n",
       "      <td>66.0</td>\n",
       "      <td>23.0</td>\n",
       "      <td>94.0</td>\n",
       "      <td>28.1</td>\n",
       "      <td>0.167</td>\n",
       "      <td>21</td>\n",
       "      <td>NaN</td>\n",
       "    </tr>\n",
       "    <tr>\n",
       "      <th>4</th>\n",
       "      <td>NaN</td>\n",
       "      <td>137.0</td>\n",
       "      <td>40.0</td>\n",
       "      <td>35.0</td>\n",
       "      <td>168.0</td>\n",
       "      <td>43.1</td>\n",
       "      <td>2.288</td>\n",
       "      <td>33</td>\n",
       "      <td>1.0</td>\n",
       "    </tr>\n",
       "  </tbody>\n",
       "</table>\n",
       "</div>"
      ],
      "text/plain": [
       "   Pregnancies  Glucose  BloodPressure  SkinThickness  Insulin   BMI  \\\n",
       "0          6.0    148.0           72.0           35.0      NaN  33.6   \n",
       "1          1.0     85.0           66.0           29.0      NaN  26.6   \n",
       "2          8.0    183.0           64.0            NaN      NaN  23.3   \n",
       "3          1.0     89.0           66.0           23.0     94.0  28.1   \n",
       "4          NaN    137.0           40.0           35.0    168.0  43.1   \n",
       "\n",
       "   DiabetesPedigreeFunction  Age  Outcome  \n",
       "0                     0.627   50      1.0  \n",
       "1                     0.351   31      NaN  \n",
       "2                     0.672   32      1.0  \n",
       "3                     0.167   21      NaN  \n",
       "4                     2.288   33      1.0  "
      ]
     },
     "execution_count": 5,
     "metadata": {},
     "output_type": "execute_result"
    }
   ],
   "source": [
    "df = df.replace(0, np.nan)\n",
    "df.head()"
   ]
  },
  {
   "cell_type": "markdown",
   "metadata": {},
   "source": [
    "Now, as we know that the label class is `Outcome` and the values in this cannot be NaN so in the below code we have replaced the NaN values back to 0 for the specific feature `Outcome`.\n",
    "Also,a woman can have 0 pregnancies, therefore the values need not to be NaN and should rather be 0. This is what we have achieved by running the below code."
   ]
  },
  {
   "cell_type": "code",
   "execution_count": 6,
   "metadata": {},
   "outputs": [],
   "source": [
    "df['Outcome'] = df['Outcome'].replace(np.nan, 0)\n",
    "df['Pregnancies'] = df['Pregnancies'].replace(np.nan, 0)"
   ]
  },
  {
   "cell_type": "markdown",
   "metadata": {},
   "source": [
   ]
  },
  {
   "cell_type": "code",
   "execution_count": 7,
   "metadata": {},
   "outputs": [
    {
     "data": {
      "text/plain": [
       "Pregnancies                   0\n",
       "Glucose                       5\n",
       "BloodPressure                35\n",
       "SkinThickness               227\n",
       "Insulin                     374\n",
       "BMI                          11\n",
       "DiabetesPedigreeFunction      0\n",
       "Age                           0\n",
       "Outcome                       0\n",
       "dtype: int64"
      ]
     },
     "execution_count": 7,
     "metadata": {},
     "output_type": "execute_result"
    }
   ],
   "source": [
    "df.isnull().sum()"
   ]
  },
  {
   "cell_type": "markdown",
   "metadata": {},
   "source": [
    "--------------------------------------------------------------------------------------"
   ]
  },
  {
   "cell_type": "markdown",
   "metadata": {},
   "source": [
    "**Import the SimpleImputer class from sklearn.impute, then use the mean as strategy to replace all NaNs, fit and transform the modfied data frame (using the fit_transform() function) and print again the number of missing values for each feature**"
   ]
  },
  {
   "cell_type": "markdown",
   "metadata": {},
   "source": [
   ]
  },
  {
   "cell_type": "code",
   "execution_count": 8,
   "metadata": {},
   "outputs": [],
   "source": [
    "from sklearn.impute import SimpleImputer\n",
    "imputer = SimpleImputer(missing_values= np.NaN , strategy='mean')\n",
    "df = imputer.fit_transform(df)"
   ]
  },
  {
   "cell_type": "markdown",
   "metadata": {},
   "source": [
   ]
  },
  {
   "cell_type": "code",
   "execution_count": 9,
   "metadata": {},
   "outputs": [
    {
     "data": {
      "text/html": [
       "<div>\n",
       "<style scoped>\n",
       "    .dataframe tbody tr th:only-of-type {\n",
       "        vertical-align: middle;\n",
       "    }\n",
       "\n",
       "    .dataframe tbody tr th {\n",
       "        vertical-align: top;\n",
       "    }\n",
       "\n",
       "    .dataframe thead th {\n",
       "        text-align: right;\n",
       "    }\n",
       "</style>\n",
       "<table border=\"1\" class=\"dataframe\">\n",
       "  <thead>\n",
       "    <tr style=\"text-align: right;\">\n",
       "      <th></th>\n",
       "      <th>Pregnancies</th>\n",
       "      <th>Glucose</th>\n",
       "      <th>BloodPressure</th>\n",
       "      <th>SkinThickness</th>\n",
       "      <th>Insulin</th>\n",
       "      <th>BMI</th>\n",
       "      <th>DiabetesPedigreeFunction</th>\n",
       "      <th>Age</th>\n",
       "      <th>Outcome</th>\n",
       "    </tr>\n",
       "  </thead>\n",
       "  <tbody>\n",
       "    <tr>\n",
       "      <th>0</th>\n",
       "      <td>6.0</td>\n",
       "      <td>148.0</td>\n",
       "      <td>72.0</td>\n",
       "      <td>35.00000</td>\n",
       "      <td>155.548223</td>\n",
       "      <td>33.6</td>\n",
       "      <td>0.627</td>\n",
       "      <td>50.0</td>\n",
       "      <td>1.0</td>\n",
       "    </tr>\n",
       "    <tr>\n",
       "      <th>1</th>\n",
       "      <td>1.0</td>\n",
       "      <td>85.0</td>\n",
       "      <td>66.0</td>\n",
       "      <td>29.00000</td>\n",
       "      <td>155.548223</td>\n",
       "      <td>26.6</td>\n",
       "      <td>0.351</td>\n",
       "      <td>31.0</td>\n",
       "      <td>0.0</td>\n",
       "    </tr>\n",
       "    <tr>\n",
       "      <th>2</th>\n",
       "      <td>8.0</td>\n",
       "      <td>183.0</td>\n",
       "      <td>64.0</td>\n",
       "      <td>29.15342</td>\n",
       "      <td>155.548223</td>\n",
       "      <td>23.3</td>\n",
       "      <td>0.672</td>\n",
       "      <td>32.0</td>\n",
       "      <td>1.0</td>\n",
       "    </tr>\n",
       "    <tr>\n",
       "      <th>3</th>\n",
       "      <td>1.0</td>\n",
       "      <td>89.0</td>\n",
       "      <td>66.0</td>\n",
       "      <td>23.00000</td>\n",
       "      <td>94.000000</td>\n",
       "      <td>28.1</td>\n",
       "      <td>0.167</td>\n",
       "      <td>21.0</td>\n",
       "      <td>0.0</td>\n",
       "    </tr>\n",
       "    <tr>\n",
       "      <th>4</th>\n",
       "      <td>0.0</td>\n",
       "      <td>137.0</td>\n",
       "      <td>40.0</td>\n",
       "      <td>35.00000</td>\n",
       "      <td>168.000000</td>\n",
       "      <td>43.1</td>\n",
       "      <td>2.288</td>\n",
       "      <td>33.0</td>\n",
       "      <td>1.0</td>\n",
       "    </tr>\n",
       "  </tbody>\n",
       "</table>\n",
       "</div>"
      ],
      "text/plain": [
       "   Pregnancies  Glucose  BloodPressure  SkinThickness     Insulin   BMI  \\\n",
       "0          6.0    148.0           72.0       35.00000  155.548223  33.6   \n",
       "1          1.0     85.0           66.0       29.00000  155.548223  26.6   \n",
       "2          8.0    183.0           64.0       29.15342  155.548223  23.3   \n",
       "3          1.0     89.0           66.0       23.00000   94.000000  28.1   \n",
       "4          0.0    137.0           40.0       35.00000  168.000000  43.1   \n",
       "\n",
       "   DiabetesPedigreeFunction   Age  Outcome  \n",
       "0                     0.627  50.0      1.0  \n",
       "1                     0.351  31.0      0.0  \n",
       "2                     0.672  32.0      1.0  \n",
       "3                     0.167  21.0      0.0  \n",
       "4                     2.288  33.0      1.0  "
      ]
     },
     "execution_count": 9,
     "metadata": {},
     "output_type": "execute_result"
    }
   ],
   "source": [
    "df = pd.DataFrame(df, columns = ['Pregnancies','Glucose','BloodPressure',\n",
    "                                           'SkinThickness','Insulin','BMI',\n",
    "                                           'DiabetesPedigreeFunction','Age',\n",
    "                                           'Outcome'])\n",
    "df.head()"
   ]
  },
  {
   "cell_type": "markdown",
   "metadata": {},
   "source": [
   ]
  },
  {
   "cell_type": "code",
   "execution_count": 10,
   "metadata": {},
   "outputs": [
    {
     "data": {
      "text/plain": [
       "Pregnancies                 0\n",
       "Glucose                     0\n",
       "BloodPressure               0\n",
       "SkinThickness               0\n",
       "Insulin                     0\n",
       "BMI                         0\n",
       "DiabetesPedigreeFunction    0\n",
       "Age                         0\n",
       "Outcome                     0\n",
       "dtype: int64"
      ]
     },
     "execution_count": 10,
     "metadata": {},
     "output_type": "execute_result"
    }
   ],
   "source": [
    "df.isnull().sum()"
   ]
  },
  {
   "cell_type": "markdown",
   "metadata": {},
   "source": [
    "**Note:-** As there are no more null values in our dataframe, we can move ahead and carry out the data scaling in next task."
   ]
  },
  {
   "cell_type": "markdown",
   "metadata": {},
   "source": [
    "--------------------------------------------------------------------------------------"
   ]
  },
  {
   "cell_type": "markdown",
   "metadata": {},
   "source": [
    "## B. Scaling"
   ]
  },
  {
   "cell_type": "markdown",
   "metadata": {},
   "source": [
    "Distribution of values before scaling"
   ]
  },
  {
   "cell_type": "code",
   "execution_count": 11,
   "metadata": {},
   "outputs": [
    {
     "data": {
      "image/png": "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\n",
      "text/plain": [
       "<Figure size 864x576 with 1 Axes>"
      ]
     },
     "metadata": {
      "needs_background": "light"
     },
     "output_type": "display_data"
    }
   ],
   "source": [
    "df.plot(kind='box', figsize=(12, 8));"
   ]
  },
  {
   "cell_type": "markdown",
   "metadata": {},
   "source": [
    "**Import the MinMaxScaler scaler class from sklearn.preprocessing, fit and transform the data and plot the normalised data (using a box plot) in order to display the distribution of values after scaling**"
   ]
  },
  {
   "cell_type": "markdown",
   "metadata": {},
   "source": [
  },
  {
   "cell_type": "code",
   "execution_count": 12,
   "metadata": {},
   "outputs": [
    {
     "data": {
      "image/png": "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\n",
      "text/plain": [
       "<Figure size 1296x864 with 1 Axes>"
      ]
     },
     "metadata": {
      "needs_background": "light"
     },
     "output_type": "display_data"
    }
   ],
   "source": [
    "from sklearn.preprocessing import MinMaxScaler\n",
    "\n",
    "scaler = MinMaxScaler()\n",
    "\n",
    "df = pd.DataFrame(scaler.fit_transform(df), columns = df.columns)\n",
    "df.plot(kind = 'box', figsize=(18,12));"
   ]
  },
  {
   "cell_type": "markdown",
   "metadata": {},
   "source": [
   ]
  },
  {
   "cell_type": "markdown",
   "metadata": {},
   "source": [
    "--------------------------------------------------------------------------------------"
   ]
  },
  {
   "cell_type": "markdown",
   "metadata": {},
   "source": [
    "**Split the data frame into a training set (X_train, y_train) and a test set (X_test, y_test), use 0.33 as test size and the previously defined random_state parameter**"
   ]
  },
  {
   "cell_type": "markdown",
   "metadata": {},
   "source": [
   ]
  },
  {
   "cell_type": "code",
   "execution_count": 13,
   "metadata": {},
   "outputs": [],
   "source": [
    "X = df.drop(columns=['Outcome'])\n",
    "y = df['Outcome']"
   ]
  },
  {
   "cell_type": "markdown",
   "metadata": {},
   "source": [
   ]
  },
  {
   "cell_type": "code",
   "execution_count": 14,
   "metadata": {},
   "outputs": [],
   "source": [
    "from sklearn.model_selection import train_test_split\n",
    "X_train,X_test,y_train,y_test = train_test_split (X, y,\n",
    "                                                  test_size = 0.33, \n",
    "                                                  random_state = 42)"
   ]
  },
  {
   "cell_type": "markdown",
   "metadata": {},
   "source": [
   ]
  },
  {
   "cell_type": "code",
   "execution_count": 15,
   "metadata": {},
   "outputs": [
    {
     "name": "stdout",
     "output_type": "stream",
     "text": [
      "(514, 8)\n",
      "(254, 8)\n",
      "(514,)\n",
      "(254,)\n"
     ]
    }
   ],
   "source": [
    "print(X_train.shape)\n",
    "print(X_test.shape)\n",
    "print(y_train.shape)\n",
    "print(y_test.shape)"
   ]
  },
  {
   "cell_type": "markdown",
   "metadata": {},
   "source": [
    "--------------------------------------------------------------------------------------"
   ]
  },
  {
   "cell_type": "markdown",
   "metadata": {},
   "source": [
    "# C. Train and Evaluate the Model"
   ]
  },
  {
   "cell_type": "markdown",
   "metadata": {},
   "source": [
    "**Import the KNeighborsClassifier from sklearn.neighbors, set n_neighbors to 5, fit the model, make predications (using X_test) and report the accuracy of the classifier (using the accuracy_score() function from sklearn.metrics)**"
   ]
  },
  {
   "cell_type": "markdown",
   "metadata": {},
   "source": [
   ]
  },
  {
   "cell_type": "code",
   "execution_count": 16,
   "metadata": {},
   "outputs": [
    {
     "name": "stdout",
     "output_type": "stream",
     "text": [
      "Accuracy: 0.71\n"
     ]
    }
   ],
   "source": [
    "from sklearn.neighbors import KNeighborsClassifier\n",
    "from sklearn.metrics import accuracy_score\n",
    "\n",
    "knn = KNeighborsClassifier(n_neighbors=5)\n",
    "knn.fit(X_train, y_train)\n",
    "y_pred = knn.predict(X_test)\n",
    "print(\"Accuracy:\",'{:.2f}'.format(accuracy_score(y_pred, y_test)))"
   ]
  },
  {
   "cell_type": "markdown",
   "metadata": {},
   "source": [
    "--------------------------------------------------------------------------------------"
   ]
  },
  {
   "cell_type": "markdown",
   "metadata": {},
   "source": [
    "**Report precision, recall and f1-score for the classifier (using the classification_report() function from sklearn.metrics)**"
   ]
  },
  {
   "cell_type": "markdown",
   "metadata": {},
   "source": [
   ]
  },
  {
   "cell_type": "code",
   "execution_count": 17,
   "metadata": {},
   "outputs": [
    {
     "name": "stdout",
     "output_type": "stream",
     "text": [
      "              precision    recall  f1-score   support\n",
      "\n",
      " Outcome = 0       0.77      0.80      0.79       168\n",
      " Outcome = 1       0.58      0.55      0.56        86\n",
      "\n",
      "    accuracy                           0.71       254\n",
      "   macro avg       0.68      0.67      0.67       254\n",
      "weighted avg       0.71      0.71      0.71       254\n",
      "\n"
     ]
    }
   ],
   "source": [
    "from sklearn.metrics import classification_report\n",
    "print(classification_report(y_test, y_pred, target_names= ['Outcome = 0', \n",
    "                                                           'Outcome = 1']))"
   ]
  },
  {
   "cell_type": "markdown",
   "metadata": {},
   "source": [
    "**Import the cross_value_score function from sklearn.model_selection, use 10-fold cross validation and report the accuracy of the classifier**"
   ]
  },
  {
   "cell_type": "markdown",
   "metadata": {},
   "source": [
   ]
  },
  {
   "cell_type": "code",
   "execution_count": 18,
   "metadata": {},
   "outputs": [
    {
     "name": "stdout",
     "output_type": "stream",
     "text": [
      "Accuracy: 0.75 (+/- 0.11)\n"
     ]
    }
   ],
   "source": [
    "from sklearn.model_selection import cross_val_score\n",
    "\n",
    "knn_cv = KNeighborsClassifier()\n",
    "cv_scores = cross_val_score(knn_cv, X,y, cv=10)\n",
    "\n",
    "print(\"Accuracy: %0.2f (+/- %0.2f)\" % (cv_scores.mean(), cv_scores.std() * 2))"
   ]
  },
  {
   "cell_type": "markdown",
   "metadata": {},
   "source": [
    "**Import the cross_val_predict function from sklearn.model_selection and compute again precision, recall and F1-score for the classifier. The output wil look similar to the output of Task 6**"
   ]
  },
  {
   "cell_type": "markdown",
   "metadata": {},
   "source": [
   ]
  },
  {
   "cell_type": "code",
   "execution_count": 19,
   "metadata": {},
   "outputs": [
    {
     "name": "stdout",
     "output_type": "stream",
     "text": [
      "              precision    recall  f1-score   support\n",
      "\n",
      " Outcome = 0       0.80      0.82      0.81       500\n",
      " Outcome = 1       0.65      0.62      0.64       268\n",
      "\n",
      "    accuracy                           0.75       768\n",
      "   macro avg       0.73      0.72      0.72       768\n",
      "weighted avg       0.75      0.75      0.75       768\n",
      "\n"
     ]
    }
   ],
   "source": [
    "from sklearn.model_selection import cross_val_predict\n",
    "\n",
    "y_pred = cross_val_predict(knn_cv, X,y, cv=10)\n",
    "print(classification_report(y, y_pred, target_names= ['Outcome = 0', \n",
    "                                                      'Outcome = 1']))"
   ]
  },
  {
   "cell_type": "markdown",
   "metadata": {},
   "source": [
    "**Generate a confusion matrix and print the number of true negatives, false positives, false negatives, and true positives for the classification**"
   ]
  },
  {
   "cell_type": "markdown",
   "metadata": {},
   "source": [
   ]
  },
  {
   "cell_type": "code",
   "execution_count": 20,
   "metadata": {
    "scrolled": true
   },
   "outputs": [
    {
     "name": "stdout",
     "output_type": "stream",
     "text": [
      "[[412  88]\n",
      " [102 166]]\n",
      "\n",
      "\n",
      "True Negatives: 412\n",
      "False Positives: 88\n",
      "False Negatives: 102\n",
      "True Positives: 166\n"
     ]
    }
   ],
   "source": [
    "from sklearn.metrics import confusion_matrix\n",
    "\n",
    "CM = confusion_matrix(y, y_pred)\n",
    "print (CM)\n",
    "print (\"\\n\")\n",
    "\n",
    "TN = CM[0][0]\n",
    "FP = CM[0][1]\n",
    "FN = CM[1][0]\n",
    "TP = CM[1][1]\n",
    "\n",
    "print ('True Negatives:', TN )\n",
    "print ('False Positives:', FP )\n",
    "print ('False Negatives:', FN )\n",
    "print ('True Positives:', TP)"
   ]
  },
  {
   "cell_type": "markdown",
   "metadata": {},
   "source": [
    "**Evaluate alternative values in the range of 1 to 30 for K and plot the error rate versus the K-values**"
   ]
  },
  {
   "cell_type": "markdown",
   "metadata": {},
   "source": [
   ]
  },
  {
   "cell_type": "code",
   "execution_count": 21,
   "metadata": {},
   "outputs": [],
   "source": [
    "error = []\n",
    "\n",
    "for i in range(1, 30):\n",
    "    knn = KNeighborsClassifier(n_neighbors=i)\n",
    "    knn.fit(X_train, y_train)\n",
    "    pred_i = knn.predict(X_test)\n",
    "    error.append(np.mean(pred_i != y_test))"
   ]
  },
  {
   "cell_type": "markdown",
   "metadata": {},
   "source": [
   ]
  },
  {
   "cell_type": "code",
   "execution_count": 22,
   "metadata": {},
   "outputs": [
    {
     "data": {
      "text/plain": [
       "Text(0, 0.5, 'Error Rate')"
      ]
     },
     "execution_count": 22,
     "metadata": {},
     "output_type": "execute_result"
    },
    {
     "data": {
      "image/png": "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\n",
      "text/plain": [
       "<Figure size 720x288 with 1 Axes>"
      ]
     },
     "metadata": {
      "needs_background": "light"
     },
     "output_type": "display_data"
    }
   ],
   "source": [
    "plt.figure(figsize=(10, 4))\n",
    "plt.plot(range(1, 30), error, color='blue', linestyle='dashed', marker='o',\n",
    "         markerfacecolor='yellow', markersize=10)\n",
    "plt.title('Error Rate vs K-Values')\n",
    "plt.xlabel('K-Values')\n",
    "plt.ylabel('Error Rate')"
   ]
  }
 ],
 "metadata": {
  "hide_input": false,
  "kernelspec": {
   "display_name": "Python 3",
   "language": "python",
   "name": "python3"
  },
  "language_info": {
   "codemirror_mode": {
    "name": "ipython",
    "version": 3
   },
   "file_extension": ".py",
   "mimetype": "text/x-python",
   "name": "python",
   "nbconvert_exporter": "python",
   "pygments_lexer": "ipython3",
   "version": "3.7.6"
  },
  "latex_envs": {
   "LaTeX_envs_menu_present": true,
   "autoclose": false,
   "autocomplete": true,
   "bibliofile": "biblio.bib",
   "cite_by": "apalike",
   "current_citInitial": 1,
   "eqLabelWithNumbers": true,
   "eqNumInitial": 1,
   "hotkeys": {
    "equation": "Ctrl-E",
    "itemize": "Ctrl-I"
   },
   "labels_anchors": false,
   "latex_user_defs": false,
   "report_style_numbering": false,
   "user_envs_cfg": false
  }
 },
 "nbformat": 4,
 "nbformat_minor": 2
}
